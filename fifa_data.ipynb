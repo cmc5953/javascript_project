{
 "cells": [
  {
   "cell_type": "code",
   "execution_count": 92,
   "metadata": {},
   "outputs": [],
   "source": [
    "import matplotlib.pyplot as plt\n",
    "import pandas as pd\n",
    "import numpy as np\n",
    "import scipy.stats as st\n"
   ]
  },
  {
   "cell_type": "code",
   "execution_count": 93,
   "metadata": {},
   "outputs": [
    {
     "output_type": "execute_result",
     "data": {
      "text/plain": "0        124.865\n1         87.010\n2        133.905\n3         81.360\n4        115.260\n          ...   \n18142     67.800\n18143     67.800\n18144     67.800\n18145     67.800\n18146     67.800\nName: Value, Length: 18147, dtype: float64"
     },
     "metadata": {},
     "execution_count": 93
    }
   ],
   "source": [
    "file = 'soccer_data.csv'\n",
    "fifa_data_raw = pd.read_csv(file)\n",
    "\n",
    "fifa_df = pd.DataFrame(fifa_data_raw)\n",
    "#fifa_df['Value'] = fifa_df['Value'].str.replace('€', '').astype(int)\n",
    "\n",
    "fifa_df['Value'] = fifa_df['Value'].replace({'€': '' , 'M' : '' , 'K' : ''}, regex = True).astype(float)\n",
    "exchange_rate = 1.13\n",
    "fifa_df['Value'] = fifa_df['Value'] * exchange_rate\n",
    "fifa_df['Value']"
   ]
  },
  {
   "cell_type": "code",
   "execution_count": 97,
   "metadata": {},
   "outputs": [
    {
     "output_type": "execute_result",
     "data": {
      "text/plain": "                  Name  Age Height  Weight  Nationality  Value(MM)  \\\n0             L. Messi   31    5'7  159lbs    Argentina    124.865   \n1    Cristiano Ronaldo   33    6'2  183lbs     Portugal     87.010   \n2            Neymar Jr   26    5'9  150lbs       Brazil    133.905   \n3               De Gea   27    6'4  168lbs        Spain     81.360   \n4         K. De Bruyne   27   5'11  154lbs      Belgium    115.260   \n..                 ...  ...    ...     ...          ...        ...   \n495            J. Zoet   27    6'2  194lbs  Netherlands     14.125   \n496          A. Ljajić   26    6'0  163lbs       Serbia     19.775   \n497            Canales   27   5'11  163lbs        Spain     17.515   \n498        Iago Falqué   28    5'9  152lbs        Spain     16.950   \n499         L. de Jong   27    6'2  190lbs  Netherlands     18.080   \n\n                                              Photo  \\\n0    https://cdn.sofifa.org/players/4/19/158023.png   \n1     https://cdn.sofifa.org/players/4/19/20801.png   \n2    https://cdn.sofifa.org/players/4/19/190871.png   \n3    https://cdn.sofifa.org/players/4/19/193080.png   \n4    https://cdn.sofifa.org/players/4/19/192985.png   \n..                                              ...   \n495  https://cdn.sofifa.org/players/4/19/190778.png   \n496  https://cdn.sofifa.org/players/4/19/190544.png   \n497  https://cdn.sofifa.org/players/4/19/190286.png   \n498  https://cdn.sofifa.org/players/4/19/190264.png   \n499  https://cdn.sofifa.org/players/4/19/189805.png   \n\n                                    Flag  Overall  Potential - Delta  \\\n0    https://cdn.sofifa.org/flags/52.png       94                  0   \n1    https://cdn.sofifa.org/flags/38.png       94                  0   \n2    https://cdn.sofifa.org/flags/54.png       92                  1   \n3    https://cdn.sofifa.org/flags/45.png       91                  2   \n4     https://cdn.sofifa.org/flags/7.png       91                  1   \n..                                   ...      ...                ...   \n495  https://cdn.sofifa.org/flags/34.png       80                  3   \n496  https://cdn.sofifa.org/flags/51.png       80                  1   \n497  https://cdn.sofifa.org/flags/45.png       80                  0   \n498  https://cdn.sofifa.org/flags/45.png       80                  0   \n499  https://cdn.sofifa.org/flags/34.png       80                  0   \n\n                    Club Position  \n0           FC Barcelona      FWD  \n1               Juventus      FWD  \n2    Paris Saint-Germain      MID  \n3      Manchester United       GK  \n4        Manchester City      MID  \n..                   ...      ...  \n495                  PSV       GK  \n496          Beşiktaş JK      MID  \n497           Real Betis      MID  \n498               Torino      MID  \n499                  PSV      FWD  \n\n[500 rows x 12 columns]",
      "text/html": "<div>\n<style scoped>\n    .dataframe tbody tr th:only-of-type {\n        vertical-align: middle;\n    }\n\n    .dataframe tbody tr th {\n        vertical-align: top;\n    }\n\n    .dataframe thead th {\n        text-align: right;\n    }\n</style>\n<table border=\"1\" class=\"dataframe\">\n  <thead>\n    <tr style=\"text-align: right;\">\n      <th></th>\n      <th>Name</th>\n      <th>Age</th>\n      <th>Height</th>\n      <th>Weight</th>\n      <th>Nationality</th>\n      <th>Value(MM)</th>\n      <th>Photo</th>\n      <th>Flag</th>\n      <th>Overall</th>\n      <th>Potential - Delta</th>\n      <th>Club</th>\n      <th>Position</th>\n    </tr>\n  </thead>\n  <tbody>\n    <tr>\n      <th>0</th>\n      <td>L. Messi</td>\n      <td>31</td>\n      <td>5'7</td>\n      <td>159lbs</td>\n      <td>Argentina</td>\n      <td>124.865</td>\n      <td>https://cdn.sofifa.org/players/4/19/158023.png</td>\n      <td>https://cdn.sofifa.org/flags/52.png</td>\n      <td>94</td>\n      <td>0</td>\n      <td>FC Barcelona</td>\n      <td>FWD</td>\n    </tr>\n    <tr>\n      <th>1</th>\n      <td>Cristiano Ronaldo</td>\n      <td>33</td>\n      <td>6'2</td>\n      <td>183lbs</td>\n      <td>Portugal</td>\n      <td>87.010</td>\n      <td>https://cdn.sofifa.org/players/4/19/20801.png</td>\n      <td>https://cdn.sofifa.org/flags/38.png</td>\n      <td>94</td>\n      <td>0</td>\n      <td>Juventus</td>\n      <td>FWD</td>\n    </tr>\n    <tr>\n      <th>2</th>\n      <td>Neymar Jr</td>\n      <td>26</td>\n      <td>5'9</td>\n      <td>150lbs</td>\n      <td>Brazil</td>\n      <td>133.905</td>\n      <td>https://cdn.sofifa.org/players/4/19/190871.png</td>\n      <td>https://cdn.sofifa.org/flags/54.png</td>\n      <td>92</td>\n      <td>1</td>\n      <td>Paris Saint-Germain</td>\n      <td>MID</td>\n    </tr>\n    <tr>\n      <th>3</th>\n      <td>De Gea</td>\n      <td>27</td>\n      <td>6'4</td>\n      <td>168lbs</td>\n      <td>Spain</td>\n      <td>81.360</td>\n      <td>https://cdn.sofifa.org/players/4/19/193080.png</td>\n      <td>https://cdn.sofifa.org/flags/45.png</td>\n      <td>91</td>\n      <td>2</td>\n      <td>Manchester United</td>\n      <td>GK</td>\n    </tr>\n    <tr>\n      <th>4</th>\n      <td>K. De Bruyne</td>\n      <td>27</td>\n      <td>5'11</td>\n      <td>154lbs</td>\n      <td>Belgium</td>\n      <td>115.260</td>\n      <td>https://cdn.sofifa.org/players/4/19/192985.png</td>\n      <td>https://cdn.sofifa.org/flags/7.png</td>\n      <td>91</td>\n      <td>1</td>\n      <td>Manchester City</td>\n      <td>MID</td>\n    </tr>\n    <tr>\n      <th>...</th>\n      <td>...</td>\n      <td>...</td>\n      <td>...</td>\n      <td>...</td>\n      <td>...</td>\n      <td>...</td>\n      <td>...</td>\n      <td>...</td>\n      <td>...</td>\n      <td>...</td>\n      <td>...</td>\n      <td>...</td>\n    </tr>\n    <tr>\n      <th>495</th>\n      <td>J. Zoet</td>\n      <td>27</td>\n      <td>6'2</td>\n      <td>194lbs</td>\n      <td>Netherlands</td>\n      <td>14.125</td>\n      <td>https://cdn.sofifa.org/players/4/19/190778.png</td>\n      <td>https://cdn.sofifa.org/flags/34.png</td>\n      <td>80</td>\n      <td>3</td>\n      <td>PSV</td>\n      <td>GK</td>\n    </tr>\n    <tr>\n      <th>496</th>\n      <td>A. Ljajić</td>\n      <td>26</td>\n      <td>6'0</td>\n      <td>163lbs</td>\n      <td>Serbia</td>\n      <td>19.775</td>\n      <td>https://cdn.sofifa.org/players/4/19/190544.png</td>\n      <td>https://cdn.sofifa.org/flags/51.png</td>\n      <td>80</td>\n      <td>1</td>\n      <td>Beşiktaş JK</td>\n      <td>MID</td>\n    </tr>\n    <tr>\n      <th>497</th>\n      <td>Canales</td>\n      <td>27</td>\n      <td>5'11</td>\n      <td>163lbs</td>\n      <td>Spain</td>\n      <td>17.515</td>\n      <td>https://cdn.sofifa.org/players/4/19/190286.png</td>\n      <td>https://cdn.sofifa.org/flags/45.png</td>\n      <td>80</td>\n      <td>0</td>\n      <td>Real Betis</td>\n      <td>MID</td>\n    </tr>\n    <tr>\n      <th>498</th>\n      <td>Iago Falqué</td>\n      <td>28</td>\n      <td>5'9</td>\n      <td>152lbs</td>\n      <td>Spain</td>\n      <td>16.950</td>\n      <td>https://cdn.sofifa.org/players/4/19/190264.png</td>\n      <td>https://cdn.sofifa.org/flags/45.png</td>\n      <td>80</td>\n      <td>0</td>\n      <td>Torino</td>\n      <td>MID</td>\n    </tr>\n    <tr>\n      <th>499</th>\n      <td>L. de Jong</td>\n      <td>27</td>\n      <td>6'2</td>\n      <td>190lbs</td>\n      <td>Netherlands</td>\n      <td>18.080</td>\n      <td>https://cdn.sofifa.org/players/4/19/189805.png</td>\n      <td>https://cdn.sofifa.org/flags/34.png</td>\n      <td>80</td>\n      <td>0</td>\n      <td>PSV</td>\n      <td>FWD</td>\n    </tr>\n  </tbody>\n</table>\n<p>500 rows × 12 columns</p>\n</div>"
     },
     "metadata": {},
     "execution_count": 97
    }
   ],
   "source": [
    "\n",
    "\n",
    "#fifa_df['Value'] = fifa_df['Value'].map(\"${:,.2f}\".format)\n",
    "\n",
    "#fifa_df['Value']\n",
    "\n",
    "fifa_data_consise = fifa_df[['Name','Age','Height','Weight','Nationality','Value','Photo','Flag','Overall','Potential - Delta','Club','Position',]]\n",
    "\n",
    "fifa_data_500 = fifa_data_consise[:500]\n",
    "fifa_data_500.rename(columns = {'Value':'Value(MM)'}, inplace = True)\n",
    "fifa_data_500"
   ]
  },
  {
   "cell_type": "code",
   "execution_count": 99,
   "metadata": {},
   "outputs": [],
   "source": [
    "fifa_data_500.to_json('soccoerdata.json', orient='columns')"
   ]
  },
  {
   "cell_type": "code",
   "execution_count": null,
   "metadata": {},
   "outputs": [],
   "source": []
  }
 ],
 "metadata": {
  "language_info": {
   "codemirror_mode": {
    "name": "ipython",
    "version": 3
   },
   "file_extension": ".py",
   "mimetype": "text/x-python",
   "name": "python",
   "nbconvert_exporter": "python",
   "pygments_lexer": "ipython3",
   "version": "3.6.10-final"
  },
  "orig_nbformat": 2,
  "kernelspec": {
   "name": "python361064bitpythondatacondaaf81a7b96d5a421095499aa2d7d5f43d",
   "display_name": "Python 3.6.10 64-bit ('PythonData': conda)"
  }
 },
 "nbformat": 4,
 "nbformat_minor": 2
}